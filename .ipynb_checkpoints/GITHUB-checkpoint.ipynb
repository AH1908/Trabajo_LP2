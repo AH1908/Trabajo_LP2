{
 "cells": [
  {
   "cell_type": "markdown",
   "id": "9d6519e6",
   "metadata": {},
   "source": [
    "# "
   ]
  },
  {
   "cell_type": "markdown",
   "id": "b3b50ab9",
   "metadata": {},
   "source": [
    "# <center><h1> GIT HUB</h1> </center>"
   ]
  },
  {
   "cell_type": "markdown",
   "id": "68b6cefe",
   "metadata": {},
   "source": [
    "<h2><span , style=\"color:red\";> ¿Qué es GiThub?</span></h2>"
   ]
  },
  {
   "cell_type": "markdown",
   "id": "5dc5d502",
   "metadata": {},
   "source": [
    "Es una plataforma en la Nube (Internet) que sirve como almacenamiento de código fuente y archivos de un proyecto de Software, Web, Aplicación Móvil, etc. todo esto de manera Gratuita, pero GitHub cuenta con su versión de Pago para poder usar otras funciones en su plataforma.\n"
   ]
  },
  {
   "cell_type": "markdown",
   "id": "391c8fd5",
   "metadata": {},
   "source": [
    "<h2><span , style=\"color:red\";> ¿Para que sirve?</span></h2>"
   ]
  },
  {
   "cell_type": "markdown",
   "id": "8857eab5",
   "metadata": {},
   "source": [
    "GitHub te permite trabajar llevando un control de las versiones de tu proyecto, por ejemplo si un día decides subir el código y los archivos de una primera parte de tu proyecto y al siguiente día otra versión y así sucesivamente todos los días, entonces te das cuenta que se están creando siempre diferentes  versiones de tu proyecto,  todo se va almacenando en un repositorio que debes de crear para tu proyecto."
   ]
  },
  {
   "cell_type": "markdown",
   "id": "e4f548a8",
   "metadata": {},
   "source": [
    "<img src=\"imagen.png\" alt=\"imagen ilustrativa\" width=\"300\" height=\"250\" style=\"display: block; margin: auto;\">"
   ]
  },
  {
   "cell_type": "markdown",
   "id": "c2673b7c",
   "metadata": {},
   "source": [
    "<h2><span , style=\"color:red\";> ¿Que son los repositorios en GiThub? </span></h2>"
   ]
  },
  {
   "cell_type": "markdown",
   "id": "7004b15d",
   "metadata": {},
   "source": [
    "Los repositorios son, como su propio nombre indica, lugares virtuales alojados en la nube en donde los usuarios pueden almacenar cualquier tipo de archivo. Suelen usarse para guardar archivos de texto que representan código en distintos lenguajes de programación, los cuales a su vez conforman un programa o aplicación. Este es el servicio principal que ofrece GitHub: repositorios en donde los usuarios pueden almacenar el código de sus aplicaciones, ya sea de forma pública, privada o a través de una organización"
   ]
  }
 ],
 "metadata": {
  "kernelspec": {
   "display_name": "Python 3 (ipykernel)",
   "language": "python",
   "name": "python3"
  },
  "language_info": {
   "codemirror_mode": {
    "name": "ipython",
    "version": 3
   },
   "file_extension": ".py",
   "mimetype": "text/x-python",
   "name": "python",
   "nbconvert_exporter": "python",
   "pygments_lexer": "ipython3",
   "version": "3.11.7"
  }
 },
 "nbformat": 4,
 "nbformat_minor": 5
}
