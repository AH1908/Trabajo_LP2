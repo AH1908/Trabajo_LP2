{
 "cells": [
  {
   "cell_type": "markdown",
   "id": "157fa8d6",
   "metadata": {},
   "source": [
    "1. Introducción\n",
    "\n",
    "<p>En las últimas décadas, los investigadores de encuestas se han interesado mucho en el muestreo aleatorio sistemático, ya que es un procedimiento sencillo pero útil. de selección de una muestra aleatoria de una población de interés determinada.</p>\n",
    "<p>Los investigadores encuentran que el muestreo sistemático es incluso más simple que el muestreo aleatorio simple predeterminado debido a que selecciona solo la primera unidad (o las primeras unidades) al azar de la población de interés.</p>\n",
    "<p>Las unidades restantes de la muestra se obtienen utilizando una regla predefinida. Introducido por primera vez por Madow y Madow, los investigadores utilizan el muestreo aleatorio sistemático y sus diversas formas en diferentes circunstancias de la vida real.</p>\n",
    "<p>Madow y Madow introdujeron la novedosa idea de un patrón predefinido para la selección de unidades y lo denominaron muestreo sistemático. El método de Madow y Madow sólo era manejable en circunstancias en las que el tamaño de la población finita puede considerarse como un múltiplo constante del tamaño de la muestra, lo que limita su utilidad.</p>\n",
    "<p>Para paliar este problema, Lahiri presentó el tipo circular de diseño de muestreo sistemático. Posteriormente, Chang y Huang sugirieron una modificación del esquema de muestreo aleatorio sistemático al que llamaron diseño de muestreo sistemático de resto que puede aplicarse en situaciones en las que el tamaño de una población finita no puede expresarse como un múltiplo del tamaño de la muestra.</p>\n",
    "<p>Subramani introdujo lo que se conoce como muestreo sistemático diagonal. Como su nombre indica, las unidades se obtienen diagonalmente en el muestreo sistemático diagonal. Sampath y Varalakshmi, así como Subramani, introdujeron formas modificadas del diseño de muestreo sistemático diagonal.</p>\n",
    "<p>Para aquellos casos en los que el tamaño de la muestra era un número entero impar, Subramani introdujo una forma eficiente de diseño de muestreo sistemático lineal que resultó ser más eficiente que las versiones anteriores de muestreo sistemático. Asimismo, se introdujo otra forma eficaz del diseño de muestreo sistemático lineal en el estudio de investigación de Subramani y Gupta.</p>\n",
    "<p>La técnica de Subramani y Gupta era beneficiosa porque no requería una relación matemática entre la población y el tamaño de la muestra. Más recientemente, Azeem y Khan estudiaron la estimación de la media con una nueva modificación del sistema de muestreo sistemático diagonal.</p>\n",
    "<p>Además, otros investigadores de encuestas también estudiaron diferentes aspectos de las variantes del muestreo aleatorio sistemático basándose en situaciones de la vida real, incluidos los estudios de investigación de Azeem et al. Azeem et al. sugirieron una nueva variante modificada del muestreo aleatorio sistemático diagonal y demostraron la mejora en términos de eficiencia con respecto al muestreo sistemático lineal y diagonal, además de algunos de los otros esquemas de muestreo disponibles.</p>\n",
    "<p>Motivados por el estudio de Azeem et al., introducimos una forma modificada del método de muestreo de Azeem et al. Observamos que nuestra versión propuesta es más eficiente que el esquema de muestreo de Azeem et al. También mostramos la mejora con respecto a otros esquemas de muestreo populares para aquellas situaciones de la vida real en las que existe una tendencia lineal entre las unidades de la población.</p>\n",
    "<p>El muestreo de la media a partir del nuevo diseño de muestreo propuesto. La mejora de la eficacia se observa para un conjunto de datos para un conjunto de datos reales y para situaciones con una tendencia lineal perfecta...</p>"
   ]
  },
  {
   "cell_type": "code",
   "execution_count": null,
   "id": "5be88802",
   "metadata": {},
   "outputs": [],
   "source": []
  },
  {
   "cell_type": "code",
   "execution_count": null,
   "id": "1b8ba8fb",
   "metadata": {},
   "outputs": [],
   "source": []
  }
 ],
 "metadata": {
  "kernelspec": {
   "display_name": "Python 3 (ipykernel)",
   "language": "python",
   "name": "python3"
  },
  "language_info": {
   "codemirror_mode": {
    "name": "ipython",
    "version": 3
   },
   "file_extension": ".py",
   "mimetype": "text/x-python",
   "name": "python",
   "nbconvert_exporter": "python",
   "pygments_lexer": "ipython3",
   "version": "3.11.5"
  }
 },
 "nbformat": 4,
 "nbformat_minor": 5
}
