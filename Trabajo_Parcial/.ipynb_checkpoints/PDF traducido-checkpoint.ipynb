{
 "cells": [
  {
   "cell_type": "markdown",
   "id": "4ae962d8",
   "metadata": {},
   "source": [
    "1. Introducción\n",
    "\n",
    "<p>En las últimas décadas, los investigadores de encuestas se han interesado mucho en el muestreo aleatorio sistemático, ya que es un procedimiento sencillo pero útil. de selección de una muestra aleatoria de una población de interés determinada.</p>\n",
    "<p>Los investigadores encuentran que el muestreo sistemático es incluso más simple que el muestreo aleatorio simple predeterminado debido a que selecciona solo la primera unidad (o las primeras unidades) al azar de la población de interés.</p>\n",
    "<p>Las unidades restantes de la muestra se obtienen utilizando una regla predefinida. Introducido por primera vez por Madow y Madow, los investigadores utilizan el muestreo aleatorio sistemático y sus diversas formas en diferentes circunstancias de la vida real.</p>\n",
    "<p>Madow y Madow introdujeron la novedosa idea de un patrón predefinido para la selección de unidades y lo denominaron muestreo sistemático. El método de Madow y Madow sólo era manejable en circunstancias en las que el tamaño de la población finita puede considerarse como un múltiplo constante del tamaño de la muestra, lo que limita su utilidad.</p>\n",
    "<p>Para paliar este problema, Lahiri presentó el tipo circular de diseño de muestreo sistemático. Posteriormente, Chang y Huang sugirieron una modificación del esquema de muestreo aleatorio sistemático al que llamaron diseño de muestreo sistemático de resto que puede aplicarse en situaciones en las que el tamaño de una población finita no puede expresarse como un múltiplo del tamaño de la muestra.</p>\n",
    "<p>Subramani introdujo lo que se conoce como muestreo sistemático diagonal. Como su nombre indica, las unidades se obtienen diagonalmente en el muestreo sistemático diagonal. Sampath y Varalakshmi, así como Subramani, introdujeron formas modificadas del diseño de muestreo sistemático diagonal.</p>\n",
    "<p>Para aquellos casos en los que el tamaño de la muestra era un número entero impar, Subramani introdujo una forma eficiente de diseño de muestreo sistemático lineal que resultó ser más eficiente que las versiones anteriores de muestreo sistemático. Asimismo, se introdujo otra forma eficaz del diseño de muestreo sistemático lineal en el estudio de investigación de Subramani y Gupta.</p>\n",
    "<p>La técnica de Subramani y Gupta era beneficiosa porque no requería una relación matemática entre la población y el tamaño de la muestra. Más recientemente, Azeem y Khan estudiaron la estimación de la media con una nueva modificación del sistema de muestreo sistemático diagonal.</p>\n",
    "<p>Además, otros investigadores de encuestas también estudiaron diferentes aspectos de las variantes del muestreo aleatorio sistemático basándose en situaciones de la vida real, incluidos los estudios de investigación de Azeem et al. Azeem et al. sugirieron una nueva variante modificada del muestreo aleatorio sistemático diagonal y demostraron la mejora en términos de eficiencia con respecto al muestreo sistemático lineal y diagonal, además de algunos de los otros esquemas de muestreo disponibles.</p>\n",
    "<p>Motivados por el estudio de Azeem et al., introducimos una forma modificada del método de muestreo de Azeem et al. Observamos que nuestra versión propuesta es más eficiente que el esquema de muestreo de Azeem et al. También mostramos la mejora con respecto a otros esquemas de muestreo populares para aquellas situaciones de la vida real en las que existe una tendencia lineal entre las unidades de la población.</p>\n",
    "<p>El muestreo de la media a partir del nuevo diseño de muestreo propuesto. La mejora de la eficacia se observa para un conjunto de datos para un conjunto de datos reales y para situaciones con una tendencia lineal perfecta...</p>"
   ]
  },
  {
   "cell_type": "markdown",
   "id": "486a4273",
   "metadata": {},
   "source": [
    "2. Diseño de muestreo sugerido \n",
    "\n",
    "1) Particionar toda la población en tres conjuntos no solapados y exhaustivos de unidades: Conjunto-I, Conjunto-II y Conjunto-III, de forma que el Conjunto-I obtenga las primeras $k \\times k = k^2$ unidades $y_i$ $(i = 1, 2,..., k^2)$ para formar una matriz cuadrada $k \\times k$, el Conjunto-II obtiene las siguientes $(n - k - 2)k$ unidades $y_i$ $(i = kk + 1,kk + 2,kk + 3,...,(n - 2)k)$, mientras que el Conjunto-III obtiene las últimas $2k$ unidades $y_i$ $(i = (n - 2)k + 1,(n - 2)k + 2,(n - 2)k + 3,..., nk)$.</p>\n",
    "\n",
    "2) Ordena las unidades del Conjunto-I en una matriz $k \\times k$ de unidades. Dentro del Conjunto-II, coloque las $(n - k - 2)k$ unidades en forma de matriz de orden $(n - k - 2) \\times k$, y en el Conjunto-III, organice las últimas $2k$ unidades en una matriz de orden $2 \\times k$, como se indica en la Tabla 1.</p>\n",
    "\n",
    "3) Seleccionar tres números aleatorios $r_1$, $r_2$ y $r_3$ donde $1 \\leq r_1 \\leq k$, $1 \\leq r_2 \\leq k$ y $1 \\leq r_3 \\leq k$. En el Conjunto-I, las unidades para la muestra se eligen de tal manera que las $k$ unidades elegidas pertenecen a la diagonal de la matriz de unidades resultante. En el conjunto II, las unidades de la muestra se eligen de forma que las $n - k - 2$ unidades elegidas pertenezcan a la $r_2$-ésima columna de la matriz. Asimismo, en el conjunto III, se seleccionan aleatoriamente dos unidades del total de $2k$ unidades del conjunto de forma que las unidades seleccionadas pertenezcan a la misma columna. Por último, las unidades seleccionadas de los tres conjuntos se fusionan en un único grupo, con lo que se obtiene la muestra necesaria de tamaño $n$.</p>\n",
    "\n",
    "<p>Cabe señalar que el método propuesto difiere del método de Azeem et al. en el sentido de que divide la población finita en tres grupos no superpuestos, a diferencia de los dos grupos del método de Azeem et al. la población finita en tres grupos que no se solapan, a diferencia de los dos grupos del método de Azeem et al.</p>\n",
    "<p>es decir, las dos últimas filas del Conjunto II del método de Azeem et al. se han trasladado a un grupo separado, denominado Conjunto III. Al igual que en el método de Azeem et al, la asignación de unidades a los tres conjuntos se realiza de forma mutuamente excluyente y colectivamente exhaustiva también en el método propuesto. En Sección 4, se observa que este enfoque de asignación de unidades da como resultado un diseño de muestreo más mejorado.</p>\n",
    "<p>El plan de muestreo propuesto divide la población en tres grupos que no se solapan, lo que da lugar a un diseño de muestreo más eficaz que los planes de muestreo disponibles. más eficaz que los sistemas de muestreo disponibles, que se basan en la división de la población en dos grupos. Cabe señalar que la población puede dividirse en más de tres grupos para mejorar aún más la eficacia con respecto al método propuesto, sin embargo Sin embargo, esto puede dar lugar a un número muy limitado de opciones entre los valores de N y n, lo que puede no ser aplicable en la práctica. Así pues, la división de la población en tres grupos es un buen equilibrio entre la eficiencia y la utilidad práctica del plan de muestreo.</p>\n",
    "\n",
    "Se puede observar fácilmente que el número total de muestras posibles que se pueden seleccionar en el nuevo diseño muestral es $k \\times k \\times k = k^3$, cada una de las cuales tiene un tamaño $n$. La probabilidad de inclusión de primer orden basada en el diseño de muestreo propuesto viene dada por: \n",
    "$$\\pi_i = \\frac{1}{k} \\quad$$\n",
    "donde el subíndice \"i\" indica la unidad $i$ de la población."
   ]
  },
  {
   "cell_type": "markdown",
   "id": "aea6414f",
   "metadata": {},
   "source": [
    "Tabla 1 </p>\n",
    "Unidades de población organizadas en diferentes conjuntos.\n",
    "</br>\n",
    "| $Set-I$ |                   |               |     |           | $Set-II$ |                   |                   |     |                    | $Set-III$ |                 |                 |     |               |\n",
    "| :---- | :---------------- | :------------ | :-- | :-------- | :----- | :---------------- | :---------------- | :-- | :----------------- | :------ | :-------------- | :-------------- | :-- | :------------ |\n",
    "| $S.No.$ | $1$                 | $2$             | ... | $k$         | $S.No.$  | $1$                 | $2$                 | ... | $k$                  | $S.No.$   | $1$               | $2$               | ... |      $k$         |\n",
    "| $1$     | $y_{1}$             | $y_{2}$         | ... | $y_{k}$     | $k+1$  | $y_{kk+1}$        | $y_{kk+2}$        | ... | $y_{kk+k=(k+1)}$    | $n-1$   | $y_{(n-2)k+1}$     | $y_{(n-2)k+2}$     | ... | $y_{(n-1)k}$     |\n",
    "| $2$     | $y_{k+1}$         | $y_{k+2}$     | ... | $y_{2k}$    | $k+2$  | $y_{(k+1)k+1}$    | $y_{(k+1)k+2}$    | ... | $y_{(k+2)k}$         | $n$     | $y_{(n-1)k+1}$     | $y_{(n-1)k+2}$     | ... | $y_{nk}$         |\n",
    "| $3$     | $y_{2k+1}$        | $y_{2k+2}$    | ... | $y_{3k}$    | $k+3$  | $y_{(k+2)k+1}$    | $y_{(k+2)k+2}$    | ... | $y_{(k+3)k}$         |         |                 |                 |     |               |\n",
    "| $k$     | $y_{(k-1)k+1}$    | $y_{(k-1)k+2}$   | ... | $y_{kk}$    | $n-2$  | $y_{(n-3)k+1}$     | $y_{(n-3)k+2}$    | ... | $y_{(n-2)k}$         |         |                 |                 |     |               |\n"
   ]
  },
  {
   "cell_type": "markdown",
   "id": "1356df56",
   "metadata": {},
   "source": [
    "</br>\n",
    "$$1=\\left\\{\\begin{matrix}\n",
    "\\frac{1}{k} \\text{ ,si las unidades i-esima y j-esima pertenecen a la\n",
    "misma diagonal en el conjunto-I,}\\\\ \n",
    "\\frac{1}{k} \\text{ ,si las unidades i-esima y j-esima pertenecen a la\n",
    "misma columna del conjunto-II o del conjunto-III}\\\\ \n",
    "\\frac{1}{k} \\text{ ,si las unidades i-esima y j-esima son de dos conjuntos diferentes, 0, en caso contrario} \n",
    "\\end{matrix}\\right.$$\n",
    "</br>\n",
    "En general, las unidades seleccionadas con arreglo al plan de muestreo propuesto son:"
   ]
  },
  {
   "cell_type": "code",
   "execution_count": null,
   "id": "73fb9c7f",
   "metadata": {},
   "outputs": [],
   "source": []
  }
 ],
 "metadata": {
  "kernelspec": {
   "display_name": "Python 3 (ipykernel)",
   "language": "python",
   "name": "python3"
  },
  "language_info": {
   "codemirror_mode": {
    "name": "ipython",
    "version": 3
   },
   "file_extension": ".py",
   "mimetype": "text/x-python",
   "name": "python",
   "nbconvert_exporter": "python",
   "pygments_lexer": "ipython3",
   "version": "3.11.5"
  }
 },
 "nbformat": 4,
 "nbformat_minor": 5
}
