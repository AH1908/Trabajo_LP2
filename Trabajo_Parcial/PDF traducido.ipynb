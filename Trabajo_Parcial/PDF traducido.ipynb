{
 "cells": [
  {
   "cell_type": "markdown",
   "id": "b36010bb",
   "metadata": {},
   "source": [
    "<h1> Una versión mejorada del diseño de muestreo sistemático para su uso condatos de tendencia lineal </h1>"
   ]
  },
  {
   "cell_type": "markdown",
   "id": "4ae962d8",
   "metadata": {},
   "source": [
    "<h2>1. Introducción</h2>\n",
    "\n",
    "<p>En las últimas décadas, los investigadores de encuestas se han interesado mucho en el muestreo aleatorio sistemático, ya que es un procedimiento sencillo pero útil. de selección de una muestra aleatoria de una población de interés determinada.</p>\n",
    "<p>Los investigadores encuentran que el muestreo sistemático es incluso más simple que el muestreo aleatorio simple predeterminado debido a que selecciona solo la primera unidad (o las primeras unidades) al azar de la población de interés.</p>\n",
    "<p>Las unidades restantes de la muestra se obtienen utilizando una regla predefinida. Introducido por primera vez por Madow y Madow, los investigadores utilizan el muestreo aleatorio sistemático y sus diversas formas en diferentes circunstancias de la vida real.</p>\n",
    "<p>Madow y Madow introdujeron la novedosa idea de un patrón predefinido para la selección de unidades y lo denominaron muestreo sistemático. El método de Madow y Madow sólo era manejable en circunstancias en las que el tamaño de la población finita puede considerarse como un múltiplo constante del tamaño de la muestra, lo que limita su utilidad.</p>\n",
    "<p>Para paliar este problema, Lahiri presentó el tipo circular de diseño de muestreo sistemático. Posteriormente, Chang y Huang sugirieron una modificación del esquema de muestreo aleatorio sistemático al que llamaron diseño de muestreo sistemático de resto que puede aplicarse en situaciones en las que el tamaño de una población finita no puede expresarse como un múltiplo del tamaño de la muestra.</p>\n",
    "<p>Subramani introdujo lo que se conoce como muestreo sistemático diagonal. Como su nombre indica, las unidades se obtienen diagonalmente en el muestreo sistemático diagonal. Sampath y Varalakshmi, así como Subramani, introdujeron formas modificadas del diseño de muestreo sistemático diagonal.</p>\n",
    "<p>Para aquellos casos en los que el tamaño de la muestra era un número entero impar, Subramani introdujo una forma eficiente de diseño de muestreo sistemático lineal que resultó ser más eficiente que las versiones anteriores de muestreo sistemático. Asimismo, se introdujo otra forma eficaz del diseño de muestreo sistemático lineal en el estudio de investigación de Subramani y Gupta.</p>\n",
    "<p>La técnica de Subramani y Gupta era beneficiosa porque no requería una relación matemática entre la población y el tamaño de la muestra. Más recientemente, Azeem y Khan estudiaron la estimación de la media con una nueva modificación del sistema de muestreo sistemático diagonal.</p>\n",
    "<p>Además, otros investigadores de encuestas también estudiaron diferentes aspectos de las variantes del muestreo aleatorio sistemático basándose en situaciones de la vida real, incluidos los estudios de investigación de Azeem et al. Azeem et al. sugirieron una nueva variante modificada del muestreo aleatorio sistemático diagonal y demostraron la mejora en términos de eficiencia con respecto al muestreo sistemático lineal y diagonal, además de algunos de los otros esquemas de muestreo disponibles.</p>\n",
    "<p>Motivados por el estudio de Azeem et al., introducimos una forma modificada del método de muestreo de Azeem et al. Observamos que nuestra versión propuesta es más eficiente que el esquema de muestreo de Azeem et al. También mostramos la mejora con respecto a otros esquemas de muestreo populares para aquellas situaciones de la vida real en las que existe una tendencia lineal entre las unidades de la población.</p>\n",
    "<p>El muestreo de la media a partir del nuevo diseño de muestreo propuesto. La mejora de la eficacia se observa para un conjunto de datos para un conjunto de datos reales y para situaciones con una tendencia lineal perfecta...</p>"
   ]
  },
  {
   "cell_type": "markdown",
   "id": "486a4273",
   "metadata": {},
   "source": [
    "<h2>2. Diseño de muestreo sugerido</h2>\n",
    "\n",
    "1) Particionar toda la población en tres conjuntos no solapados y exhaustivos de unidades: Conjunto-I, Conjunto-II y Conjunto-III, de forma que el Conjunto-I obtenga las primeras $k \\times k = k^2$ unidades $y_i$ $(i = 1, 2,..., k^2)$ para formar una matriz cuadrada $k \\times k$, el Conjunto-II obtiene las siguientes $(n - k - 2)k$ unidades $y_i$ $(i = kk + 1,kk + 2,kk + 3,...,(n - 2)k)$, mientras que el Conjunto-III obtiene las últimas $2k$ unidades $y_i$ $(i = (n - 2)k + 1,(n - 2)k + 2,(n - 2)k + 3,..., nk)$.</p>\n",
    "\n",
    "2) Ordena las unidades del Conjunto-I en una matriz $k \\times k$ de unidades. Dentro del Conjunto-II, coloque las $(n - k - 2)k$ unidades en forma de matriz de orden $(n - k - 2) \\times k$, y en el Conjunto-III, organice las últimas $2k$ unidades en una matriz de orden $2 \\times k$, como se indica en la Tabla 1.</p>\n",
    "\n",
    "3) Seleccionar tres números aleatorios $r_1$, $r_2$ y $r_3$ donde $1 \\leq r_1 \\leq k$, $1 \\leq r_2 \\leq k$ y $1 \\leq r_3 \\leq k$. En el Conjunto-I, las unidades para la muestra se eligen de tal manera que las $k$ unidades elegidas pertenecen a la diagonal de la matriz de unidades resultante. En el conjunto II, las unidades de la muestra se eligen de forma que las $n - k - 2$ unidades elegidas pertenezcan a la $r_2$-ésima columna de la matriz. Asimismo, en el conjunto III, se seleccionan aleatoriamente dos unidades del total de $2k$ unidades del conjunto de forma que las unidades seleccionadas pertenezcan a la misma columna. Por último, las unidades seleccionadas de los tres conjuntos se fusionan en un único grupo, con lo que se obtiene la muestra necesaria de tamaño $n$.</p>\n",
    "\n",
    "<p>Cabe señalar que el método propuesto difiere del método de Azeem et al. en el sentido de que divide la población finita en tres grupos no superpuestos, a diferencia de los dos grupos del método de Azeem et al. la población finita en tres grupos que no se solapan, a diferencia de los dos grupos del método de Azeem et al.</p>\n",
    "<p>Es decir, las dos últimas filas del Conjunto II del método de Azeem et al. se han trasladado a un grupo separado, denominado Conjunto III. Al igual que en el método de Azeem et al, la asignación de unidades a los tres conjuntos se realiza de forma mutuamente excluyente y colectivamente exhaustiva también en el método propuesto. En Sección 4, se observa que este enfoque de asignación de unidades da como resultado un diseño de muestreo más mejorado.</p>\n",
    "<p>El plan de muestreo propuesto divide la población en tres grupos que no se solapan, lo que da lugar a un diseño de muestreo más eficaz que los planes de muestreo disponibles. más eficaz que los sistemas de muestreo disponibles, que se basan en la división de la población en dos grupos. Cabe señalar que la población puede dividirse en más de tres grupos para mejorar aún más la eficacia con respecto al método propuesto, sin embargo Sin embargo, esto puede dar lugar a un número muy limitado de opciones entre los valores de N y n, lo que puede no ser aplicable en la práctica. Así pues, la división de la población en tres grupos es un buen equilibrio entre la eficiencia y la utilidad práctica del plan de muestreo.</p>\n",
    "\n",
    "Se puede observar fácilmente que el número total de muestras posibles que se pueden seleccionar en el nuevo diseño muestral es $k \\times k \\times k = k^3$, cada una de las cuales tiene un tamaño $n$. La probabilidad de inclusión de primer orden basada en el diseño de muestreo propuesto viene dada por: \n",
    "$$\\pi_i = \\frac{1}{k} \\quad$$\n",
    "donde el subíndice \"i\" indica la unidad $i$ de la población."
   ]
  },
  {
   "cell_type": "markdown",
   "id": "aea6414f",
   "metadata": {},
   "source": [
    "Tabla 1 </p>\n",
    "Unidades de población organizadas en diferentes conjuntos.\n",
    "</br>\n",
    "| $Set-I$ |                   |               |     |           | $Set-II$ |                   |                   |     |                    | $Set-III$ |                 |                 |     |               |\n",
    "| :---- | :---------------- | :------------ | :-- | :-------- | :----- | :---------------- | :---------------- | :-- | :----------------- | :------ | :-------------- | :-------------- | :-- | :------------ |\n",
    "| $S.No.$ | $1$                 | $2$             | ... | $k$         | $S.No.$  | $1$                 | $2$                 | ... | $k$                  | $S.No.$   | $1$               | $2$               | ... |      $k$         |\n",
    "| $1$     | $y_{1}$             | $y_{2}$         | ... | $y_{k}$     | $k+1$  | $y_{kk+1}$        | $y_{kk+2}$        | ... | $y_{kk+k=(k+1)}$    | $n-1$   | $y_{(n-2)k+1}$     | $y_{(n-2)k+2}$     | ... | $y_{(n-1)k}$     |\n",
    "| $2$     | $y_{k+1}$         | $y_{k+2}$     | ... | $y_{2k}$    | $k+2$  | $y_{(k+1)k+1}$    | $y_{(k+1)k+2}$    | ... | $y_{(k+2)k}$         | $n$     | $y_{(n-1)k+1}$     | $y_{(n-1)k+2}$     | ... | $y_{nk}$         |\n",
    "| $3$     | $y_{2k+1}$        | $y_{2k+2}$    | ... | $y_{3k}$    | $k+3$  | $y_{(k+2)k+1}$    | $y_{(k+2)k+2}$    | ... | $y_{(k+3)k}$         |         |                 |                 |     |               |\n",
    "| $k$     | $y_{(k-1)k+1}$    | $y_{(k-1)k+2}$   | ... | $y_{kk}$    | $n-2$  | $y_{(n-3)k+1}$     | $y_{(n-3)k+2}$    | ... | $y_{(n-2)k}$         |         |                 |                 |     |               |\n"
   ]
  },
  {
   "cell_type": "markdown",
   "id": "1356df56",
   "metadata": {},
   "source": [
    "$\\pi_{ij}=\\left\\{\\begin{matrix}\n",
    "\\frac{1}{k} \\text{ ,si las unidades i-esima y j-esima pertenecen a la\n",
    "misma diagonal en el conjunto-I,}\\\\ \n",
    "\\frac{1}{k} \\text{ ,si las unidades i-esima y j-esima pertenecen a la\n",
    "misma columna del conjunto-II o del conjunto-III}\\\\ \n",
    "\\frac{1}{k^2} \\text{ ,si las unidades i-esima y j-esima son de dos conjuntos diferentes, 0, en caso contrario} \n",
    "\\end{matrix}\\right.$"
   ]
  },
  {
   "cell_type": "markdown",
   "id": "e1a6abcd",
   "metadata": {},
   "source": [
    "En general, las unidades seleccionadas con arreglo al plan de muestreo propuesto son:"
   ]
  },
  {
   "cell_type": "markdown",
   "id": "438342f6",
   "metadata": {},
   "source": [
    "$S_{r_{1}r_{2}r_{3}}=\\begin{cases}\n",
    "y_{r_{1}},y_{(k+1)+r_{1}}, ... ,y_{(k-1)(k+1)+r_{1}},y_{kk+r_{2}},y_{(k+1)k+r_{2}}...,y_{(n-3)k+r_{2}},y_{r_3},y_{k+r_{3}}.& \\text{ if } r_{1}=1 \\\\ \n",
    "\\left.\\begin{matrix}\n",
    "y_{r_{1}},y_{(k+1)k+r_{2}},...y_{t(k+1)+r_{1}},y_{(t+1)k+1},y_{(t+2)k+2},...,y_{(k-1)k+k-t-1}, & \\\\ \n",
    "y_{kk+r_{2}},y_{(k+1)k+r_{2}},...,y_{(n-2)k+r_{2},y_{r3}},y_{k+r_{3}}. \n",
    "\\end{matrix}\\right\\} \\text{ if } r_{1}> 1\n",
    "\\end{cases}$"
   ]
  },
  {
   "cell_type": "markdown",
   "id": "15c9dc9e",
   "metadata": {},
   "source": [
    "Donde $r_{2}=1,2,...,k; r_{3}= 1,2,...,k.$<br>"
   ]
  },
  {
   "cell_type": "markdown",
   "id": "049b15b9",
   "metadata": {},
   "source": [
    "La media sobre la base del nuevo diseño de muestreo sugerido viene dada por:"
   ]
  },
  {
   "cell_type": "markdown",
   "id": "767ef092",
   "metadata": {},
   "source": [
    "$\\overline{y}_{msy}=w_1\\overline{y}_1+w_2\\overline{y}_2+w_3\\overline{y}_3,$"
   ]
  },
  {
   "cell_type": "markdown",
   "id": "dc74b3c5",
   "metadata": {},
   "source": [
    "donde la media de la muestra del Conjunto-I viene dada en la ecuación (4) como:"
   ]
  },
  {
   "cell_type": "markdown",
   "id": "2d306845",
   "metadata": {},
   "source": [
    "$$\\overline{y}_{1}=\\begin{cases}\n",
    "\\frac{1}{k}\\sum_{l=0}^{k-1}y_{l(k+1)+r_{1}}& ,\\text{ if }r_{1} =1, \\\\ \n",
    "\\frac{1}{k}(\\sum_{i=0}^{t}y_{i(k+1)+r_{1}} +\\sum_{i=1}^{k-t-1}y_{(t+i)k+i})& ,\\text{ if } r_{1}> 1.\n",
    "\\end{cases}$$"
   ]
  },
  {
   "cell_type": "markdown",
   "id": "e9c9b850",
   "metadata": {},
   "source": [
    "Donde $t = k - r_{1}$. La media de la muestra del Conjunto-I y del Conjunto-II se dan en las ecuaciones (5) y (6) como:"
   ]
  },
  {
   "cell_type": "markdown",
   "id": "31a5d073",
   "metadata": {},
   "source": [
    "$\\overline{y}_2=\\frac{1}{n-k-2}\\sum_{l=k}^{n-3}y_{lk+r_{2}},w_{1}=\\frac{k}{n},w_{2}=\\frac{n-k-2}{n},w_{3}=\\frac{2}{n},w_{1}+w_{2}+w_{3}=1,$"
   ]
  },
  {
   "cell_type": "markdown",
   "id": "6ba065b3",
   "metadata": {},
   "source": [
    "y,"
   ]
  },
  {
   "cell_type": "markdown",
   "id": "aec0877e",
   "metadata": {},
   "source": [
    "$\\overline{y}_3=\\frac{1}{2}(y_{(n-2)k+r_{3}}+y_{(n-1)k+r_{3}}).$"
   ]
  },
  {
   "cell_type": "markdown",
   "id": "2b17f006",
   "metadata": {},
   "source": [
    "Teorema: La media de la muestra puede expresarse en la forma matemática dada por Horvitz y Thompson [23] y es un estimador insesgado de la media de la población con una varianza dada como:<br>"
   ]
  },
  {
   "cell_type": "markdown",
   "id": "278f6f91",
   "metadata": {},
   "source": [
    "$Var(\\overline{y}_{msy})= \\frac{1}{N^{2}}\\left [ k^{4} \\left \\{\\frac{1}{k} \\left.\\sum_{i=1}^{k}(\\overline{y}_{1i}-\\overline{Y}_{1})^{2} \\right \\}+(n-k-2)^{2}k^{2}\\left \\{ \\frac{1}{k}\\left.\\sum_{i=1}^{k}(\\overline{y}_{2i}-\\overline{Y}_2)^{2}  \\right \\}+4k^{2}(\\overline{y}_{3i}-\\overline{Y}_3)^{2} \\right. \\right.\\right ],$"
   ]
  },
  {
   "cell_type": "markdown",
   "id": "10ab2b3e",
   "metadata": {},
   "source": [
    "Donde $\\overline{y}_{1}$, $\\overline{y}_{2}$ e $\\overline{y}_{3}$ denotan las medias de la muestra obtenida de los tres conjuntos. Además, $\\overline{Y}_{1}$,$\\overline{Y}_{2}$ e $\\overline{Y}_{3}$ denotan la media basada en todas las\n",
    "unidades pertenecientes a los conjuntos I, II y III, respectivamente, y k denota el total de muestras que pueden extraerse con el nuevo sistema de muestreo.\n",
    "Demostración: "
   ]
  },
  {
   "cell_type": "markdown",
   "id": "2e0b6081",
   "metadata": {},
   "source": [
    "Por definición<br>\n",
    "$\\overline{y}_{msy}=\\frac{k^{2}}{N}\\overline{y}_{1}+\\frac{(n-k-2)k}{N}\\overline{y}_{2}+\\frac{2k}{N}\\overline{y}_{3}=\\frac{1}{N}\\left (k\\sum_{i\\epsilon s_{1}}^{}y_{1i}+k\\sum_{i\\epsilon s_{2}}^{}y_{2i}+k\\sum_{i\\epsilon s_{3}}^{}y_{3i}  \\right ),$"
   ]
  },
  {
   "cell_type": "markdown",
   "id": "001a0f78",
   "metadata": {},
   "source": [
    "donde $s_{1}$, $s_{2}$ y $s_{3}$ representan la muestra obtenida de las unidades del Conjunto-I, II y III, respectivamente."
   ]
  },
  {
   "cell_type": "markdown",
   "id": "de0e2d81",
   "metadata": {},
   "source": [
    "$\\overline{y}_{msy}=\\frac{1}{N}\\left ( \\sum_{i\\epsilon s_{1}}^{}\\frac{y_{1i}}{\\frac{1}{k}} + \\sum_{i\\epsilon s_{2}}^{}\\frac{y_{2i}}{\\frac{1}{k}} + \\sum_{i\\epsilon s_{3}}^{}\\frac{y_{3i}}{\\frac{1}{k}}\\right )=\\frac{1}{N}\\sum_{i\\epsilon s}^{}\\frac{y_{i}}{\\pi _{i}}=\\overline{y}_{HT}.$"
   ]
  },
  {
   "cell_type": "markdown",
   "id": "032b41dc",
   "metadata": {},
   "source": [
    "El símbolo \"s\" en la ecuación (8) indica la muestra extraída de las unidades totales de población. Aplicando la expectativa a ambos lados de la ecuación (7) se obtiene:"
   ]
  },
  {
   "cell_type": "markdown",
   "id": "83a702b4",
   "metadata": {},
   "source": [
    "$E(\\overline{y}_{msy})=\\frac{k^{2}}{N}E(\\overline{y}_{1})+\\frac{(n-k-2)k}{N}E(\\overline{y}_{2})+\\frac{2k}{N}E(\\overline{y}_{3}).$"
   ]
  },
  {
   "cell_type": "markdown",
   "id": "6f6baba2",
   "metadata": {},
   "source": [
    "Ahora,"
   ]
  },
  {
   "cell_type": "markdown",
   "id": "c587366c",
   "metadata": {},
   "source": [
    "$E(\\overline{y}_{1})=E\\left ( \\frac{1}{k}\\sum_{i=1}^{k}y_{1i}\\right )=\\frac{1}{k}\\sum_{i=1}^{k}E(y_{1i}).$"
   ]
  },
  {
   "cell_type": "markdown",
   "id": "038f4b51",
   "metadata": {},
   "source": [
    "$= E\\left ( \\frac{1}{k}\\sum_{i=1}^{k}y_{1i} \\right )=E(y_{1i})= \\overline{Y}_{1}$"
   ]
  },
  {
   "cell_type": "markdown",
   "id": "2ccaf465",
   "metadata": {},
   "source": [
    "Similarmente,"
   ]
  },
  {
   "cell_type": "markdown",
   "id": "a5d9c068",
   "metadata": {},
   "source": [
    "$E(\\overline{y}_2)=E\\left ( \\frac{1}{n-k-2} \\sum_{i=1}^{n-k-2}y_{2i}\\right )=E(y_{2i})=\\overline{Y}_2$,"
   ]
  },
  {
   "cell_type": "markdown",
   "id": "363bb863",
   "metadata": {},
   "source": [
    "y,"
   ]
  },
  {
   "cell_type": "markdown",
   "id": "3a3a2dca",
   "metadata": {},
   "source": [
    "$E(\\overline{y}_3)=E\\left ( \\frac{1}{2}(y_{3i}+y_{3i}) \\right )=\\overline{Y}_{3}.$"
   ]
  },
  {
   "cell_type": "markdown",
   "id": "fe9fe980",
   "metadata": {},
   "source": [
    "Utilizando ahora las ecuaciones (10)-(12) en la ecuación (9) y simplificando, obtenemos $E(\\overline{y}_{msy}) = \\overline{Y}$.\n",
    "Aplicando ahora la varianza a ambos lados de la ecuación (3) se obtiene:"
   ]
  },
  {
   "cell_type": "markdown",
   "id": "16b5cbf2",
   "metadata": {},
   "source": [
    "$Var(\\overline{y}_{msy})=\\frac{k^{4}}{N^{2}}Var(\\overline{y}_1)+\\frac{(n-k-2)^{2}k^{2}}{N^{2}}Var(\\overline{y}_2)+\\frac{4k^{2}}{N^{2}}Var(\\overline{y}_3),$"
   ]
  },
  {
   "cell_type": "markdown",
   "id": "f5022290",
   "metadata": {},
   "source": [
    "Donde,\n"
   ]
  },
  {
   "cell_type": "markdown",
   "id": "df2e13d3",
   "metadata": {},
   "source": [
    "$Var(\\overline{y}_1)=\\frac{1}{k}\\sum_{i=1}^{k}(\\overline{y}_{1i}-\\overline{Y}_{1})^{2},$"
   ]
  },
  {
   "cell_type": "markdown",
   "id": "fc197952",
   "metadata": {},
   "source": [
    "ya que cada muestra posible del Conjunto-I tiene una probabilidad igual a $1/k$. Análogamente,"
   ]
  },
  {
   "cell_type": "markdown",
   "id": "8a06c3ed",
   "metadata": {},
   "source": [
    "$Var(\\overline{y}_2)=\\frac{1}{k}\\sum_{i=1}^{k}(\\overline{y}_{2i}-\\overline{Y}_{2})^{2},$"
   ]
  },
  {
   "cell_type": "markdown",
   "id": "3fa44a8f",
   "metadata": {},
   "source": [
    "$Var(\\overline{y}_3)=\\frac{1}{k}\\sum_{i=1}^{k}(\\overline{y}_{3i}-\\overline{Y}_{3})^{2}.$"
   ]
  },
  {
   "cell_type": "markdown",
   "id": "68a4b1bf",
   "metadata": {},
   "source": [
    "Utilizando las ecuaciones (14)-(16) en la ecuación (13), la varianza de la media $\\overline{y}_{msy}$ bajo el esquema de muestreo sugerido se obtiene como:"
   ]
  },
  {
   "cell_type": "markdown",
   "id": "192325df",
   "metadata": {},
   "source": [
    "$Var(\\overline{y}_{msy})=\\frac{1}{N^{2}}\\left [k^{4}\\left \\{ \\frac{1}{k}\\sum_{i=1}^{k} (\\overline{y}_{1i}-\\overline{Y}_{1})^{2}\\right \\}+(n-k-2)^{2}k^{2}\\left \\{\\frac{1}{k}\\sum_{i=1}^{k} (\\overline{y}_{2i}-\\overline{Y}_{2})^{2}  \\right \\} +4k^{2}(\\overline{y}_{3i}-\\overline{Y}_{3})^{2}\\right ].$"
   ]
  },
  {
   "cell_type": "markdown",
   "id": "0e32aab7",
   "metadata": {},
   "source": [
    "Observación 1: Utilizando el enfoque dado por Sen-Yates-Grundy (Sen [24], Yates y Grundy [25]), la varianza muestral equivalente a\n",
    "la varianza de la ecuación (17) puede obtenerse como:"
   ]
  },
  {
   "cell_type": "markdown",
   "id": "e6854c40",
   "metadata": {},
   "source": [
    "$Var(\\overline{y}_{mdsy})=\\frac{1}{N^{2}}\\left \\{\\frac{1}{2}\\sum_{i=1}^{N}\\sum_{j=1}^{N}(\\pi_i\\pi_j-\\pi_{ij})\\left ( \\frac{y_i}{\\pi_i} -\\frac{y_j}{\\pi_j}\\right )^{2}  \\right \\}=Var_{SYG}(\\overline{y}_{HT}) , j\\neq i$"
   ]
  },
  {
   "cell_type": "markdown",
   "id": "cd49c85d",
   "metadata": {},
   "source": [
    "Observación 2: El estimador tipo Sen-Yates-Grundy de la varianza muestral dada en la ecuación (18), viene dada como:"
   ]
  },
  {
   "cell_type": "markdown",
   "id": "68cdca59",
   "metadata": {},
   "source": [
    "$Var(\\overline{y}_{mdsy})=\\frac{1}{N^{2}}\\left \\{\\frac{1}{2}\\sum_{i=1}^{N}\\sum_{j=1}^{N}(\\frac{\\pi_i\\pi_j-\\pi_{ij}}{\\pi_{ij}})\\left ( \\frac{y_i}{\\pi_i} -\\frac{y_j}{\\pi_j}\\right )^{2}  \\right \\}=Var_{SYG}(\\overline{y}_{HT}) , j\\neq i$"
   ]
  },
  {
   "cell_type": "markdown",
   "id": "6fb9d21b",
   "metadata": {},
   "source": [
    "Se pueden utilizar las expresiones matemáticas de $π_{i}$ y $π_{ij}$ dadas en la ecuación (1) y la ecuación (2) en las ecuaciones (18) y (19) para obtener la varianza de muestreo, así como su estimador insesgado basado en el método propuesto.\n",
    "así como su estimador insesgado basado en el método propuesto."
   ]
  }
 ],
 "metadata": {
  "kernelspec": {
   "display_name": "Python 3 (ipykernel)",
   "language": "python",
   "name": "python3"
  },
  "language_info": {
   "codemirror_mode": {
    "name": "ipython",
    "version": 3
   },
   "file_extension": ".py",
   "mimetype": "text/x-python",
   "name": "python",
   "nbconvert_exporter": "python",
   "pygments_lexer": "ipython3",
   "version": "3.11.5"
  }
 },
 "nbformat": 4,
 "nbformat_minor": 5
}
