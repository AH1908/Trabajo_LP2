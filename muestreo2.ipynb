{
 "cells": [
  {
   "cell_type": "markdown",
   "id": "d65ad02e-62fe-497b-a21c-1479e2905154",
   "metadata": {},
   "source": [
    "## 3. Tendencia Lineal "
   ]
  },
  {
   "cell_type": "markdown",
   "id": "1ae7f7a5-2a51-49d9-af4f-dd9e6b54e1e3",
   "metadata": {},
   "source": [
    " La tendencia lineal se refiere a la progresión aritmética que se puede encontrar en el orden en que se ordenan las unidades de población, que\n",
    "puede estar en un patrón creciente o decreciente. En muchos casos prácticos se puede observar un grado de tendencia lineal de moderado a alto. como un\n",
    "Por ejemplo, los institutos educativos de casi todo el mundo ofrecen admisiones en función del mérito en diversos departamentos académicos.\n",
    "Muchas universidades tienden a asignar números de lista a sus estudiantes en función de sus puntajes académicos cuantificados durante la admisión.\n",
    "proceso. En tales casos, los estudiantes inteligentes tienden a ocupar los primeros puestos de matrícula. Así, al momento de la admisión, si las calificaciones del examen\n",
    "obtenidos por los estudiantes se observan en el orden de los números de inscripción de los estudiantes, se puede esperar un nivel moderado de aumento lineal\n",
    "tendencia ya que los estudiantes mejor matriculados, al ser los que obtienen mejores méritos, tienden a obtener mejores resultados en los exámenes posteriores.\n",
    "Asimismo, para observar prácticamente una forma decreciente de la tendencia lineal, se puede pensar en el registro diario de los datos de producción de leche,\n",
    "a partir del parto. Naturalmente, se puede esperar que la cantidad de producción diaria de leche tienda a disminuir con el paso del tiempo, por lo que\n",
    "dando como resultado un tipo de tendencia lineal decreciente.\n",
    "Supongamos que $ N = nk = k•k + (n-k-1)k + k $ unidades de población exhiben una tendencia lineal. De este modo,"
   ]
  },
  {
   "cell_type": "code",
   "execution_count": null,
   "id": "84a31953-ccab-42d7-9ce6-61c301812eb0",
   "metadata": {},
   "outputs": [],
   "source": []
  }
 ],
 "metadata": {
  "kernelspec": {
   "display_name": "Python 3 (ipykernel)",
   "language": "python",
   "name": "python3"
  },
  "language_info": {
   "codemirror_mode": {
    "name": "ipython",
    "version": 3
   },
   "file_extension": ".py",
   "mimetype": "text/x-python",
   "name": "python",
   "nbconvert_exporter": "python",
   "pygments_lexer": "ipython3",
   "version": "3.11.7"
  }
 },
 "nbformat": 4,
 "nbformat_minor": 5
}
